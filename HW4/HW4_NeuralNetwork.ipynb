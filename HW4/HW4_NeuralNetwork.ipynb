{
 "cells": [
  {
   "cell_type": "code",
   "execution_count": null,
   "metadata": {},
   "outputs": [],
   "source": [
    "import torch\n",
    "from torchvision import datasets, transforms\n",
    "import numpy as np\n",
    "import matplotlib.pyplot as plt"
   ]
  },
  {
   "cell_type": "code",
   "execution_count": null,
   "metadata": {},
   "outputs": [],
   "source": [
    "transform_ = transforms.Compose([transforms.ToTensor(), transforms.Normalize((0.5,), (0.5))])\n",
    "\n",
    "train_dataset = datasets.MNIST(root=\"data/\", download=False, train=True, transform=transform_)\n",
    "test_dataset = datasets.MNIST(root=\"data/\", download=False, train=False, transform=transform_)\n",
    "\n",
    "batch_size = 32\n",
    "train_loader = torch.utils.data.DataLoader(train_dataset, batch_size=batch_size, shuffle=True)\n",
    "test_loader = torch.utils.data.DataLoader(test_dataset, batch_size=batch_size, shuffle=True)"
   ]
  },
  {
   "cell_type": "code",
   "execution_count": null,
   "metadata": {},
   "outputs": [],
   "source": [
    "d = 28*28\n",
    "d1 = 300\n",
    "k = 10\n",
    "num_epochs = 100\n",
    "lr = 0.001"
   ]
  },
  {
   "cell_type": "code",
   "execution_count": null,
   "metadata": {},
   "outputs": [],
   "source": [
    "def initialize_weights(d, d1, k, random):\n",
    "    if random:\n",
    "        W1 = np.random.uniform(-1, 1, (d1, d))\n",
    "        W2 = np.random.uniform(-1, 1, (k, d1))\n",
    "    else:\n",
    "        W1 = np.zeros((d1, d))\n",
    "        W2 = np.zeros((k, d1))\n",
    "    return W1, W2\n",
    "\n",
    "def sigmoid(x):\n",
    "    return 1/(1+np.exp(-x))\n",
    "\n",
    "def softmax(x):\n",
    "    exp_x = np.exp(x-np.max(x, axis=-1, keepdims=True))\n",
    "    return exp_x/exp_x.sum(axis=-1, keepdims=True)"
   ]
  },
  {
   "cell_type": "code",
   "execution_count": null,
   "metadata": {},
   "outputs": [],
   "source": [
    "W1, W2 = initialize_weights(d, d1, k, True)"
   ]
  },
  {
   "cell_type": "code",
   "execution_count": null,
   "metadata": {},
   "outputs": [],
   "source": [
    "train_losses = []\n",
    "train_accuracies = []\n",
    "\n",
    "for epoch in range(num_epochs):\n",
    "    loss_epoch = 0\n",
    "    for image_b, label_b in train_loader:\n",
    "        X_train = image_b.view(-1, d).numpy()\n",
    "        Y_train = np.eye(k)[label_b.numpy()]\n",
    "        \n",
    "        Z1 = np.dot(W1, X_train.T)\n",
    "        A1 = sigmoid(Z1)\n",
    "        Z2 = np.dot(W2, A1)\n",
    "        Y_out = softmax(Z2.T)\n",
    "        \n",
    "        dZ2 = Y_out-Y_train\n",
    "        dW2 = np.dot(dZ2.T, A1.T)/(X_train.shape[0])\n",
    "        dA1 = np.dot(dZ2, W2)\n",
    "        dZ1 = dA1*A1.T*(1-A1.T)\n",
    "        dW1 = np.dot(dZ1.T, X_train)/(X_train.shape[0])\n",
    "        \n",
    "        W1 -= lr*dW1\n",
    "        W2 -= lr*dW2\n",
    "        \n",
    "        loss_epoch += (-np.sum(Y_train*np.log(Y_out), axis=1).mean())\n",
    "    print(W1, W2)\n",
    "    train_losses.append(loss_epoch/len(train_loader))\n",
    "    print(f\"Epoch {epoch}: Loss {train_losses[epoch]}\")"
   ]
  },
  {
   "cell_type": "code",
   "execution_count": null,
   "metadata": {},
   "outputs": [],
   "source": [
    "test_error = 0\n",
    "for image_b, label_b in test_loader:\n",
    "    X_test = image_b.view(-1, d).numpy()\n",
    "    Y_test = np.eye(k)[label_b.numpy()]\n",
    "    \n",
    "    A1 = sigmoid(np.dot(W1, X_test.T))\n",
    "    Y_out = softmax(np.dot(W2, A1).T)\n",
    "    \n",
    "    test_error += (-np.sum(Y_test*np.log(Y_out), axis=1).mean())"
   ]
  },
  {
   "cell_type": "code",
   "execution_count": null,
   "metadata": {},
   "outputs": [],
   "source": [
    "test_error/len(test_loader)"
   ]
  },
  {
   "cell_type": "code",
   "execution_count": null,
   "metadata": {},
   "outputs": [],
   "source": [
    "plt.plot(train_losses)\n",
    "plt.xlabel(\"Epochs\")\n",
    "plt.ylabel(\"Train Loss\")"
   ]
  },
  {
   "cell_type": "code",
   "execution_count": null,
   "metadata": {},
   "outputs": [],
   "source": []
  },
  {
   "cell_type": "code",
   "execution_count": null,
   "metadata": {},
   "outputs": [],
   "source": []
  },
  {
   "cell_type": "code",
   "execution_count": null,
   "metadata": {},
   "outputs": [],
   "source": [
    "def init_weights_torch(layer):\n",
    "    if type(layer) == torch.nn.Linear:\n",
    "        #torch.nn.init.zeros_(layer.weight)\n",
    "        torch.nn.init.uniform_(layer.weight, a=-1, b=1)"
   ]
  },
  {
   "cell_type": "code",
   "execution_count": null,
   "metadata": {},
   "outputs": [],
   "source": [
    "torch_model = torch.nn.Sequential(torch.nn.Linear(d, d1), torch.nn.Sigmoid(), torch.nn.Linear(d1, k))\n",
    "torch_model.apply(init_weights_torch)"
   ]
  },
  {
   "cell_type": "code",
   "execution_count": null,
   "metadata": {},
   "outputs": [],
   "source": [
    "torch_model[2].weight"
   ]
  },
  {
   "cell_type": "code",
   "execution_count": null,
   "metadata": {},
   "outputs": [],
   "source": [
    "optimizer = torch.optim.SGD(torch_model.parameters(), lr=0.001)\n",
    "loss_func = torch.nn.CrossEntropyLoss()\n",
    "\n",
    "training_torch_losses = []\n",
    "for epoch in range(num_epochs):\n",
    "    epoch_loss = 0\n",
    "    for image_b, label_b in train_loader:\n",
    "        X_train = image_b.view(image_b.shape[0], -1)\n",
    "        \n",
    "        optimizer.zero_grad()\n",
    "        Y_out = torch_model(X_train)\n",
    "        loss_cal = loss_func(Y_out, label_b)\n",
    "        loss_cal.backward()\n",
    "        optimizer.step()\n",
    "        epoch_loss += loss_cal.item()\n",
    "    training_torch_losses.append(epoch_loss/len(train_loader))\n",
    "    print(training_torch_losses[epoch])"
   ]
  },
  {
   "cell_type": "code",
   "execution_count": null,
   "metadata": {},
   "outputs": [],
   "source": [
    "plt.plot(training_torch_losses)\n",
    "plt.xlabel(\"Epochs\")\n",
    "plt.ylabel(\"Training Loss\")"
   ]
  },
  {
   "cell_type": "code",
   "execution_count": null,
   "metadata": {},
   "outputs": [],
   "source": [
    "test_error = 0\n",
    "for image_b, label_b in test_loader:\n",
    "    X_test = image_b.view(image_b.shape[0], -1)\n",
    "    Y_test_out = torch_model(X_test)\n",
    "    test_error += loss_func(Y_test_out, label_b).item()"
   ]
  },
  {
   "cell_type": "code",
   "execution_count": null,
   "metadata": {},
   "outputs": [],
   "source": [
    "test_error/len(test_loader)"
   ]
  },
  {
   "cell_type": "code",
   "execution_count": null,
   "metadata": {},
   "outputs": [],
   "source": []
  }
 ],
 "metadata": {
  "kernelspec": {
   "display_name": "Python 3.9.6 64-bit",
   "language": "python",
   "name": "python3"
  },
  "language_info": {
   "codemirror_mode": {
    "name": "ipython",
    "version": 3
   },
   "file_extension": ".py",
   "mimetype": "text/x-python",
   "name": "python",
   "nbconvert_exporter": "python",
   "pygments_lexer": "ipython3",
   "version": "3.9.6"
  },
  "orig_nbformat": 4,
  "vscode": {
   "interpreter": {
    "hash": "31f2aee4e71d21fbe5cf8b01ff0e069b9275f58929596ceb00d14d90e3e16cd6"
   }
  }
 },
 "nbformat": 4,
 "nbformat_minor": 2
}
